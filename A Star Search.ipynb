{
 "cells": [
  {
   "cell_type": "code",
   "execution_count": null,
   "metadata": {
    "colab": {
     "base_uri": "https://localhost:8080/",
     "height": 35
    },
    "executionInfo": {
     "elapsed": 354,
     "status": "ok",
     "timestamp": 1691260083310,
     "user": {
      "displayName": "Masuba Aaron",
      "userId": "16431486090525848491"
     },
     "user_tz": -360
    },
    "id": "ulVpSCXl9KQ2",
    "outputId": "220e3558-807a-4ac7-f522-4cacee9e6759"
   },
   "outputs": [
    {
     "data": {
      "application/vnd.google.colaboratory.intrinsic+json": {
       "type": "string"
      },
      "text/plain": [
       "'\\nName: Masuba Aaron\\nStudent ID: 21121017\\nEEE472L AS01\\n'"
      ]
     },
     "execution_count": 4,
     "metadata": {},
     "output_type": "execute_result"
    }
   ],
   "source": [
    "\"\"\"\n",
    "Name: Masuba Aaron\n",
    "Student ID: 21121017\n",
    "EEE472L AS01\n",
    "\"\"\""
   ]
  },
  {
   "cell_type": "code",
   "execution_count": 3,
   "metadata": {
    "id": "4ewe_DgskfLU"
   },
   "outputs": [
    {
     "name": "stdout",
     "output_type": "stream",
     "text": [
      "Start node: Arad\n",
      "Destination: Bucharest\n",
      "Path: Arad->Sibiu->RimnicuVilcea->Pitesti->Bucharest\n",
      "Total distance: 418 km\n"
     ]
    }
   ],
   "source": [
    "def A_star_search(g, s, des, heu_val):\n",
    "    dist = {s: 0}\n",
    "    pq = []\n",
    "    parent = {}\n",
    "\n",
    "    for cty in g:\n",
    "        if cty != s:\n",
    "            dist[cty] = float('inf')\n",
    "            parent[cty] = None\n",
    "        pq.append(cty)\n",
    "\n",
    "    while len(pq) != 0:\n",
    "        dis = {}\n",
    "\n",
    "        for p in pq:\n",
    "            dis.update({p: dist[p] + heu_val[p]})\n",
    "\n",
    "        min_dist = min(dis, key = dis.get)\n",
    "        pq.remove(min_dist)\n",
    "\n",
    "        for key, val in g[min_dist].items():\n",
    "            temp = dist[min_dist] + int(val)\n",
    "            if temp < dist[key]:\n",
    "                dist[key] = temp\n",
    "                parent[key] = min_dist\n",
    "\n",
    "    cost = dist.get(des)\n",
    "    return (parent, cost)\n",
    "\n",
    "\n",
    "def show_path(g, s, des, heu_val):\n",
    "    x = A_star_search(g, s, des, heu_val)\n",
    "    curr = des\n",
    "    path_list = []\n",
    "    while curr != s:  \n",
    "        try:\n",
    "            path_list.insert(0, curr)\n",
    "            curr = x[0][curr]\n",
    "        except Exception:\n",
    "            print('NO PATH FOUND')\n",
    "            return\n",
    "\n",
    "    path_list.insert(0, s)\n",
    "    print(\"Path:\", \"->\".join(path_list))\n",
    "    print(f\"Total distance: {x[1]} km\")\n",
    "\n",
    "\n",
    "with open(\"C://Users//USER//Desktop//EEE472 labs aaron//input.txt\", \"r\") as file:\n",
    "    g = {}\n",
    "    heu_val = {}\n",
    "\n",
    "    for line in file:\n",
    "        line = line.split()\n",
    "        city = line[0]\n",
    "        heuV = int(line[1])\n",
    "        heu_val[city] = heuV\n",
    "        size = len(line)\n",
    "\n",
    "        for i in range(2, size):\n",
    "            if i % 2 == 0:\n",
    "                v = line[i]\n",
    "            else:\n",
    "                w = line[i]\n",
    "                if city not in g:\n",
    "                    g[city] = {}\n",
    "                g[city].update({v: w})\n",
    "\n",
    "source = input(\"Start node: \")\n",
    "destination = input(\"Destination: \")//\n",
    "show_path(g, source, destination, heu_val)"
   ]
  },
  {
   "cell_type": "code",
   "execution_count": null,
   "metadata": {},
   "outputs": [],
   "source": []
  }
 ],
 "metadata": {
  "colab": {
   "provenance": []
  },
  "kernelspec": {
   "display_name": "Python 3 (ipykernel)",
   "language": "python",
   "name": "python3"
  },
  "language_info": {
   "codemirror_mode": {
    "name": "ipython",
    "version": 3
   },
   "file_extension": ".py",
   "mimetype": "text/x-python",
   "name": "python",
   "nbconvert_exporter": "python",
   "pygments_lexer": "ipython3",
   "version": "3.10.9"
  }
 },
 "nbformat": 4,
 "nbformat_minor": 1
}
